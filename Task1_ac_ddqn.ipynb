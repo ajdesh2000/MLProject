{
 "cells": [
  {
   "cell_type": "code",
   "execution_count": 1,
   "metadata": {},
   "outputs": [
    {
     "name": "stderr",
     "output_type": "stream",
     "text": [
      "Using TensorFlow backend.\n"
     ]
    }
   ],
   "source": [
    "import gym\n",
    "import random\n",
    "import numpy as np\n",
    "from statistics import median, mean\n",
    "from collections import Counter\n",
    "from keras.models import Sequential, load_model, Model\n",
    "from keras.layers import Dense, Dropout, LSTM, Input\n",
    "from keras.optimizers import Adam\n",
    "from keras.layers.merge import Add\n",
    "\n",
    "import tensorflow.compat.v1 as tf\n",
    "from tensorflow.compat.v1.keras import backend as K\n",
    "tf.disable_eager_execution()\n",
    "\n",
    "import matplotlib.pyplot as plt\n",
    "from IPython.display import clear_output\n",
    "from collections import deque"
   ]
  },
  {
   "cell_type": "code",
   "execution_count": 2,
   "metadata": {},
   "outputs": [
    {
     "name": "stdout",
     "output_type": "stream",
     "text": [
      "CartPoleEnv - Version 0.2.0, Noise case: 1\n"
     ]
    },
    {
     "name": "stderr",
     "output_type": "stream",
     "text": [
      "/home/mohanish3/anaconda3/envs/mlproject/lib/python3.7/site-packages/gym/logger.py:30: UserWarning: \u001b[33mWARN: Box bound precision lowered by casting to float32\u001b[0m\n",
      "  warnings.warn(colorize('%s: %s'%('WARN', msg % args), 'yellow'))\n",
      "/home/mohanish3/anaconda3/envs/mlproject/lib/python3.7/site-packages/gym/logger.py:30: UserWarning: \u001b[33mWARN: Environment '<class 'gym.envs.classic_control.cartpole.CartPoleEnv'>' has deprecated methods '_step' and '_reset' rather than 'step' and 'reset'. Compatibility code invoked. Set _gym_disable_underscore_compat = True to disable this behavior.\u001b[0m\n",
      "  warnings.warn(colorize('%s: %s'%('WARN', msg % args), 'yellow'))\n"
     ]
    }
   ],
   "source": [
    "LR = 1e-3\n",
    "env = gym.make(\"CartPole-v1\")\n",
    "LEARNING_RATE = 0.001"
   ]
  },
  {
   "cell_type": "code",
   "execution_count": 3,
   "metadata": {},
   "outputs": [],
   "source": [
    "#Plot score over episodes\n",
    "def plot_res(values, title=''):   \n",
    "    clear_output(wait=True)\n",
    "    \n",
    "    # Define the figure\n",
    "    f, ax = plt.subplots(nrows=1, ncols=2, figsize=(12,5))\n",
    "    f.suptitle(title)\n",
    "    ax[0].plot(values, label='score per run')\n",
    "    ax[0].axhline(500, c='red',ls='--', label='goal')\n",
    "    ax[0].set_xlabel('Episodes')\n",
    "    ax[0].set_ylabel('Reward')\n",
    "    x = range(len(values))\n",
    "    ax[0].legend()\n",
    "    # Calculate the trend\n",
    "    try:\n",
    "        z = np.polyfit(x, values, 1)\n",
    "        p = np.poly1d(z)\n",
    "        ax[0].plot(x,p(x),\"--\", label='trend')\n",
    "    except:\n",
    "        print('')\n",
    "    \n",
    "    # Plot the histogram of results\n",
    "    ax[1].hist(values[-50:])\n",
    "    ax[1].axvline(500, c='red', label='goal')\n",
    "    ax[1].set_xlabel('Scores per Last 50 Episodes')\n",
    "    ax[1].set_ylabel('Frequency')\n",
    "    ax[1].legend()\n",
    "    plt.show()"
   ]
  },
  {
   "cell_type": "code",
   "execution_count": 4,
   "metadata": {},
   "outputs": [],
   "source": [
    "input_size = env.observation_space.shape\n",
    "output_size = env.action_space.n\n",
    "\n",
    "sess = tf.Session()\n",
    "K.set_session(sess)\n",
    "\n",
    "actor_critic_grads = tf.placeholder(tf.float32, [None, output_size])\n",
    "def actor_model(input_size, output_size):\n",
    "    global LEARNING_RATE\n",
    "\n",
    "    input_state = Input(shape=input_size)\n",
    "    output=Dense(24, activation='relu')(input_state)\n",
    "    #output=Dense(48, activation='relu')(output)\n",
    "    output=Dense(24, activation='relu')(output)\n",
    "    output=Dense(output_size, activation='softmax')(output)\n",
    "\n",
    "    \n",
    "    model = Model(input=input_state, output=output)\n",
    "    model.compile(loss='categorical_crossentropy', optimizer=Adam(lr=LEARNING_RATE), metrics=['accuracy'])\n",
    "    print(model.summary())\n",
    "    \n",
    "    return input_state, model\n",
    "\n",
    "def critic_model(input_size_state, input_size_action):\n",
    "    LEARNING_RATE\n",
    "    \n",
    "    input_state = Input(shape=input_size_state)\n",
    "    state_hidden = Dense(24, activation='relu')(input_state)\n",
    "    state_hidden = Dense(24)(state_hidden)\n",
    "    \n",
    "    input_action = Input(shape=(input_size_action,))\n",
    "    action_hidden = Dense(24)(input_action)\n",
    "    action_hidden = Dense(24)(action_hidden)\n",
    "    \n",
    "    output = Add()([state_hidden, action_hidden])\n",
    "    output = Dense(24, activation='relu')(output)\n",
    "    output = Dense(1, activation='linear')(output)\n",
    "    \n",
    "    model = Model(input=[input_state,input_action], output=output)\n",
    "    \n",
    "    model.compile(loss='mse', optimizer=Adam(lr=LEARNING_RATE), metrics=['accuracy'])\n",
    "    print(model.summary())\n",
    "    \n",
    "    return input_state, input_action, model"
   ]
  },
  {
   "cell_type": "code",
   "execution_count": 5,
   "metadata": {},
   "outputs": [
    {
     "name": "stdout",
     "output_type": "stream",
     "text": [
      "WARNING:tensorflow:From /home/mohanish3/anaconda3/envs/mlproject/lib/python3.7/site-packages/tensorflow_core/python/ops/resource_variable_ops.py:1635: calling BaseResourceVariable.__init__ (from tensorflow.python.ops.resource_variable_ops) with constraint is deprecated and will be removed in a future version.\n",
      "Instructions for updating:\n",
      "If using Keras pass *_constraint arguments to layers.\n",
      "Model: \"model_1\"\n",
      "_________________________________________________________________\n",
      "Layer (type)                 Output Shape              Param #   \n",
      "=================================================================\n",
      "input_1 (InputLayer)         (None, 4)                 0         \n",
      "_________________________________________________________________\n",
      "dense_1 (Dense)              (None, 24)                120       \n",
      "_________________________________________________________________\n",
      "dense_2 (Dense)              (None, 24)                600       \n",
      "_________________________________________________________________\n",
      "dense_3 (Dense)              (None, 2)                 50        \n",
      "=================================================================\n",
      "Total params: 770\n",
      "Trainable params: 770\n",
      "Non-trainable params: 0\n",
      "_________________________________________________________________\n",
      "None\n"
     ]
    },
    {
     "name": "stderr",
     "output_type": "stream",
     "text": [
      "/home/mohanish3/.local/lib/python3.7/site-packages/ipykernel_launcher.py:18: UserWarning: Update your `Model` call to the Keras 2 API: `Model(inputs=Tensor(\"in..., outputs=Tensor(\"de...)`\n"
     ]
    },
    {
     "name": "stdout",
     "output_type": "stream",
     "text": [
      "Model: \"model_2\"\n",
      "_________________________________________________________________\n",
      "Layer (type)                 Output Shape              Param #   \n",
      "=================================================================\n",
      "input_2 (InputLayer)         (None, 4)                 0         \n",
      "_________________________________________________________________\n",
      "dense_4 (Dense)              (None, 24)                120       \n",
      "_________________________________________________________________\n",
      "dense_5 (Dense)              (None, 24)                600       \n",
      "_________________________________________________________________\n",
      "dense_6 (Dense)              (None, 2)                 50        \n",
      "=================================================================\n",
      "Total params: 770\n",
      "Trainable params: 770\n",
      "Non-trainable params: 0\n",
      "_________________________________________________________________\n",
      "None\n",
      "Model: \"model_3\"\n",
      "__________________________________________________________________________________________________\n",
      "Layer (type)                    Output Shape         Param #     Connected to                     \n",
      "==================================================================================================\n",
      "input_3 (InputLayer)            (None, 4)            0                                            \n",
      "__________________________________________________________________________________________________\n",
      "input_4 (InputLayer)            (None, 2)            0                                            \n",
      "__________________________________________________________________________________________________\n",
      "dense_7 (Dense)                 (None, 24)           120         input_3[0][0]                    \n",
      "__________________________________________________________________________________________________\n",
      "dense_9 (Dense)                 (None, 24)           72          input_4[0][0]                    \n",
      "__________________________________________________________________________________________________\n",
      "dense_8 (Dense)                 (None, 24)           600         dense_7[0][0]                    \n",
      "__________________________________________________________________________________________________\n",
      "dense_10 (Dense)                (None, 24)           600         dense_9[0][0]                    \n",
      "__________________________________________________________________________________________________\n",
      "add_1 (Add)                     (None, 24)           0           dense_8[0][0]                    \n",
      "                                                                 dense_10[0][0]                   \n",
      "__________________________________________________________________________________________________\n",
      "dense_11 (Dense)                (None, 24)           600         add_1[0][0]                      \n",
      "__________________________________________________________________________________________________\n",
      "dense_12 (Dense)                (None, 1)            25          dense_11[0][0]                   \n",
      "==================================================================================================\n",
      "Total params: 2,017\n",
      "Trainable params: 2,017\n",
      "Non-trainable params: 0\n",
      "__________________________________________________________________________________________________\n",
      "None\n"
     ]
    },
    {
     "name": "stderr",
     "output_type": "stream",
     "text": [
      "/home/mohanish3/.local/lib/python3.7/site-packages/ipykernel_launcher.py:39: UserWarning: Update your `Model` call to the Keras 2 API: `Model(inputs=[<tf.Tenso..., outputs=Tensor(\"de...)`\n"
     ]
    },
    {
     "name": "stdout",
     "output_type": "stream",
     "text": [
      "Model: \"model_4\"\n",
      "__________________________________________________________________________________________________\n",
      "Layer (type)                    Output Shape         Param #     Connected to                     \n",
      "==================================================================================================\n",
      "input_5 (InputLayer)            (None, 4)            0                                            \n",
      "__________________________________________________________________________________________________\n",
      "input_6 (InputLayer)            (None, 2)            0                                            \n",
      "__________________________________________________________________________________________________\n",
      "dense_13 (Dense)                (None, 24)           120         input_5[0][0]                    \n",
      "__________________________________________________________________________________________________\n",
      "dense_15 (Dense)                (None, 24)           72          input_6[0][0]                    \n",
      "__________________________________________________________________________________________________\n",
      "dense_14 (Dense)                (None, 24)           600         dense_13[0][0]                   \n",
      "__________________________________________________________________________________________________\n",
      "dense_16 (Dense)                (None, 24)           600         dense_15[0][0]                   \n",
      "__________________________________________________________________________________________________\n",
      "add_2 (Add)                     (None, 24)           0           dense_14[0][0]                   \n",
      "                                                                 dense_16[0][0]                   \n",
      "__________________________________________________________________________________________________\n",
      "dense_17 (Dense)                (None, 24)           600         add_2[0][0]                      \n",
      "__________________________________________________________________________________________________\n",
      "dense_18 (Dense)                (None, 1)            25          dense_17[0][0]                   \n",
      "==================================================================================================\n",
      "Total params: 2,017\n",
      "Trainable params: 2,017\n",
      "Non-trainable params: 0\n",
      "__________________________________________________________________________________________________\n",
      "None\n"
     ]
    }
   ],
   "source": [
    "#Initializiing models with target models(For slow update in DDQL)\n",
    "actor_input_state,a_model = actor_model(input_size, output_size)\n",
    "_,a_target_model = actor_model(input_size, output_size)\n",
    "critic_input_state, critic_input_action, c_model = critic_model(input_size, output_size)\n",
    "_, _, c_target_model = critic_model(input_size, output_size)"
   ]
  },
  {
   "cell_type": "code",
   "execution_count": 6,
   "metadata": {},
   "outputs": [],
   "source": [
    "actor_model_weights = a_model.trainable_weights\n",
    "actor_grads = tf.gradients(a_model.output, actor_model_weights, -actor_critic_grads)\n",
    "grads = zip(actor_grads, actor_model_weights)\n",
    "optimize = tf.train.AdamOptimizer(LEARNING_RATE).apply_gradients(grads)\n",
    "\n",
    "critic_grads = tf.gradients(c_model.output, critic_input_action)\n",
    "\n",
    "sess.run(tf.global_variables_initializer())"
   ]
  },
  {
   "cell_type": "code",
   "execution_count": 7,
   "metadata": {},
   "outputs": [],
   "source": [
    "def replay_actor(training_samples):\n",
    "    global sess, critic_grads, critic_input_state, critic_input_action, actor_critic_grads, optimize\n",
    "    \n",
    "    states = []\n",
    "    actions = []\n",
    "    for t in training_samples:\n",
    "        state, reward, done, new_state, action = t\n",
    "        \n",
    "        act = a_model.predict(np.expand_dims(state, axis=0))[0]\n",
    "        \n",
    "        states.append(state)\n",
    "        actions.append(act)\n",
    "        \n",
    "    states = np.array(states)\n",
    "    actions = np.array(actions)\n",
    "        \n",
    "    grads = sess.run(critic_grads, feed_dict={\n",
    "        critic_input_state:  states, \n",
    "        critic_input_action: actions\n",
    "    })[0]\n",
    "\n",
    "    sess.run(optimize, feed_dict={\n",
    "        actor_input_state: states,\n",
    "        actor_critic_grads: grads\n",
    "    })\n",
    "        \n",
    "def replay_critic(training_samples):\n",
    "    global epsilon, epsilon_min, epsilon_decay, a_model, c_model, double\n",
    "    \n",
    "    states=[]\n",
    "    actions = []\n",
    "    y=[]\n",
    "    for t in training_samples:\n",
    "        state, reward, done, new_state, action = t\n",
    "        \n",
    "        new_state = np.expand_dims(new_state, axis=0)\n",
    "        \n",
    "        if(done):\n",
    "            reward=-reward\n",
    "        else:\n",
    "            if not double:\n",
    "                #Deep q learning\n",
    "                a = a_model.predict(new_state)\n",
    "                t = c_model.predict([new_state, a])[0][0]\n",
    "            else:\n",
    "                #Double deep q learning\n",
    "                a = a_target_model.predict(new_state)\n",
    "                t = c_target_model.predict([new_state, a])[0][0]\n",
    "            reward = reward + gamma * t\n",
    "        \n",
    "        states.append(state)\n",
    "        actions.append(action)\n",
    "        y.append(reward)\n",
    "            \n",
    "    states = np.array(states)\n",
    "    actions = np.array(actions)\n",
    "        \n",
    "    y = np.expand_dims(np.array(y), axis=1)\n",
    "    #print(y.shape)\n",
    "        \n",
    "    c_model.fit([states, actions], y, batch_size=len(training_samples), verbose=0)\n",
    "    \n",
    "def replay(training_data, train_size):\n",
    "    global epsilon, epsilon_min, epsilon_decay, a_model, c_model\n",
    "    \n",
    "    if(len(training_data) < train_size):\n",
    "        return\n",
    "    \n",
    "    batch_data = random.sample(training_data, train_size)\n",
    "    \n",
    "    replay_critic(batch_data)\n",
    "    replay_actor(batch_data)\n",
    "    \n",
    "    epsilon = max(epsilon*epsilon_decay, epsilon_min)"
   ]
  },
  {
   "cell_type": "code",
   "execution_count": 8,
   "metadata": {},
   "outputs": [],
   "source": [
    "def update_actor_target():\n",
    "    global a_model, a_target_model\n",
    "    a_target_model.set_weights(a_model.get_weights())\n",
    "    \n",
    "def update_critic_target():\n",
    "    global c_model, c_target_model\n",
    "    c_target_model.set_weights(c_model.get_weights())\n",
    "    \n",
    "def update_targets():\n",
    "    update_actor_target()\n",
    "    update_critic_target()"
   ]
  },
  {
   "cell_type": "code",
   "execution_count": 9,
   "metadata": {},
   "outputs": [],
   "source": [
    "def next_action(state, output_size):\n",
    "    global epsilon, a_model\n",
    "    if(np.random.rand() <= epsilon): #Explore: Random action\n",
    "        act = [0] * output_size\n",
    "        act[np.random.randint(0, output_size)] = 1\n",
    "        act = np.array(act, dtype=np.float32)\n",
    "        return act\n",
    "    return a_model.predict(np.expand_dims(state, axis=0))[0] #Exploitation: Action with best possible reward"
   ]
  },
  {
   "cell_type": "code",
   "execution_count": 10,
   "metadata": {
    "scrolled": true
   },
   "outputs": [
    {
     "name": "stdout",
     "output_type": "stream",
     "text": [
      "Game 100 score : 11.0, epsilon=0.67\n",
      "Game 200 score : 12.0, epsilon=0.24\n",
      "Game 300 score : 10.0, epsilon=0.09\n",
      "Game 400 score : 30.0, epsilon=0.033\n",
      "Game 500 score : 95.0, epsilon=0.012\n",
      "Game 600 score : 102.0, epsilon=0.01\n",
      "Game 700 score : 119.0, epsilon=0.01\n",
      "Game 800 score : 107.0, epsilon=0.01\n",
      "Game 900 score : 101.0, epsilon=0.01\n",
      "Game 1000 score : 132.0, epsilon=0.01\n",
      "Game 1100 score : 86.0, epsilon=0.01\n",
      "Game 1200 score : 233.0, epsilon=0.01\n",
      "Game 1300 score : 108.0, epsilon=0.01\n",
      "Game 1400 score : 242.0, epsilon=0.01\n",
      "Game 1500 score : 168.0, epsilon=0.01\n",
      "Game 1600 score : 175.0, epsilon=0.01\n",
      "Game 1700 score : 203.0, epsilon=0.01\n",
      "Game 1800 score : 173.0, epsilon=0.01\n",
      "Game 1900 score : 321.0, epsilon=0.01\n",
      "Game 2000 score : 182.0, epsilon=0.01\n",
      "Game 2100 score : 167.0, epsilon=0.01\n",
      "Game 2200 score : 192.0, epsilon=0.01\n",
      "Game 2300 score : 246.0, epsilon=0.01\n",
      "Game 2400 score : 76.0, epsilon=0.01\n",
      "Game 2500 score : 153.0, epsilon=0.01\n",
      "Game 2600 score : 228.0, epsilon=0.01\n",
      "Game 2700 score : 125.0, epsilon=0.01\n",
      "Game 2800 score : 183.0, epsilon=0.01\n",
      "Game 2900 score : 20.0, epsilon=0.01\n",
      "Game 3000 score : 201.0, epsilon=0.01\n",
      "Game 3100 score : 9.0, epsilon=0.01\n",
      "Game 3200 score : 10.0, epsilon=0.01\n",
      "Game 3300 score : 11.0, epsilon=0.01\n",
      "Game 3400 score : 11.0, epsilon=0.01\n",
      "Game 3500 score : 11.0, epsilon=0.01\n",
      "Game 3600 score : 11.0, epsilon=0.01\n",
      "Game 3700 score : 9.0, epsilon=0.01\n",
      "Game 3800 score : 8.0, epsilon=0.01\n",
      "Game 3900 score : 10.0, epsilon=0.01\n",
      "Game 4000 score : 11.0, epsilon=0.01\n",
      "Game 4100 score : 10.0, epsilon=0.01\n",
      "Game 4200 score : 9.0, epsilon=0.01\n",
      "Game 4300 score : 9.0, epsilon=0.01\n",
      "Game 4400 score : 9.0, epsilon=0.01\n",
      "Game 4500 score : 9.0, epsilon=0.01\n",
      "Game 4600 score : 9.0, epsilon=0.01\n",
      "Game 4700 score : 10.0, epsilon=0.01\n",
      "Game 4800 score : 11.0, epsilon=0.01\n",
      "Game 4900 score : 8.0, epsilon=0.01\n",
      "Game 5000 score : 9.0, epsilon=0.01\n",
      "Game 5100 score : 11.0, epsilon=0.01\n",
      "Game 5200 score : 8.0, epsilon=0.01\n",
      "Game 5300 score : 8.0, epsilon=0.01\n",
      "Game 5400 score : 8.0, epsilon=0.01\n",
      "Game 5500 score : 11.0, epsilon=0.01\n",
      "Game 5600 score : 8.0, epsilon=0.01\n",
      "Game 5700 score : 8.0, epsilon=0.01\n",
      "Game 5800 score : 14.0, epsilon=0.01\n",
      "Game 5900 score : 9.0, epsilon=0.01\n",
      "Game 6000 score : 8.0, epsilon=0.01\n",
      "Game 6100 score : 8.0, epsilon=0.01\n",
      "Game 6200 score : 9.0, epsilon=0.01\n",
      "Game 6300 score : 8.0, epsilon=0.01\n",
      "Game 6400 score : 8.0, epsilon=0.01\n",
      "Game 6500 score : 8.0, epsilon=0.01\n",
      "Game 6600 score : 8.0, epsilon=0.01\n",
      "Game 6700 score : 8.0, epsilon=0.01\n",
      "Game 6800 score : 11.0, epsilon=0.01\n",
      "Game 6900 score : 8.0, epsilon=0.01\n",
      "Game 7000 score : 8.0, epsilon=0.01\n",
      "Game 7100 score : 9.0, epsilon=0.01\n",
      "Game 7200 score : 9.0, epsilon=0.01\n",
      "Game 7300 score : 11.0, epsilon=0.01\n",
      "Game 7400 score : 9.0, epsilon=0.01\n",
      "Game 7500 score : 9.0, epsilon=0.01\n",
      "Game 7600 score : 9.0, epsilon=0.01\n",
      "Game 7700 score : 8.0, epsilon=0.01\n",
      "Game 7800 score : 11.0, epsilon=0.01\n",
      "Game 7900 score : 11.0, epsilon=0.01\n",
      "Game 8000 score : 9.0, epsilon=0.01\n",
      "Game 8100 score : 9.0, epsilon=0.01\n",
      "Game 8200 score : 8.0, epsilon=0.01\n",
      "Game 8300 score : 10.0, epsilon=0.01\n",
      "Game 8400 score : 12.0, epsilon=0.01\n",
      "Game 8500 score : 10.0, epsilon=0.01\n",
      "Game 8600 score : 11.0, epsilon=0.01\n",
      "Game 8700 score : 11.0, epsilon=0.01\n",
      "Game 8800 score : 7.0, epsilon=0.01\n",
      "Game 8900 score : 11.0, epsilon=0.01\n",
      "Game 9000 score : 10.0, epsilon=0.01\n",
      "Game 9100 score : 8.0, epsilon=0.01\n",
      "Game 9200 score : 11.0, epsilon=0.01\n",
      "Game 9300 score : 9.0, epsilon=0.01\n",
      "Game 9400 score : 102.0, epsilon=0.01\n",
      "Game 9500 score : 72.0, epsilon=0.01\n",
      "Game 9600 score : 92.0, epsilon=0.01\n",
      "Game 9700 score : 94.0, epsilon=0.01\n",
      "Game 9800 score : 144.0, epsilon=0.01\n",
      "Game 9900 score : 68.0, epsilon=0.01\n",
      "Average Score taken every 1000 steps: 54.2020202020202\n"
     ]
    }
   ],
   "source": [
    "scores = []\n",
    "game_memory = deque(maxlen=100000)\n",
    "SCORE_REQUIRED = 500\n",
    "N=100\n",
    "last_N_scores = deque(maxlen=N)\n",
    "\n",
    "SEED=42\n",
    "np.random.seed(SEED)\n",
    "random.seed(SEED)\n",
    "tf.set_random_seed(SEED)\n",
    "\n",
    "train_size = 32\n",
    "update_every = 1\n",
    "goal_steps = 500\n",
    "TRAIN_EPISODES = 10000\n",
    "\n",
    "epsilon = 1.0 #Defines the exploration range\n",
    "epsilon_min = 0.01\n",
    "epsilon_decay = 0.99\n",
    "gamma = 0.99\n",
    "\n",
    "double = False #Double deep q\n",
    "\n",
    "for game in range(TRAIN_EPISODES):\n",
    "    state = env.reset()\n",
    "    \n",
    "    #env.render()\n",
    "    score = 0\n",
    "    for _ in range(goal_steps):\n",
    "        #print(state.shape)\n",
    "        #state = np.expand_dims(state, axis=0)\n",
    "        \n",
    "        action = next_action(state, output_size)\n",
    "        \n",
    "        #print(np.expand_dims(new_state, axis=1))\n",
    "        #print(action)\n",
    "                \n",
    "        new_state, reward, done, info = env.step(np.argmax(action))\n",
    "        \n",
    "        score += reward\n",
    "        \n",
    "        \n",
    "        game_memory.append((state, reward, done, new_state, action))\n",
    "        \n",
    "        state = new_state\n",
    "        if done: \n",
    "            #print(\"episode: {}/{}, score: {}, e: {:.2}\".format(game, TRAIN_EPISODES, _, epsilon))\n",
    "            break\n",
    "    \n",
    "    if(len(game_memory) < 1000):\n",
    "        continue\n",
    "    \n",
    "    replay(game_memory, train_size)\n",
    "    \n",
    "    if(double):\n",
    "        if game % update_every == 0: #For double deep q learning\n",
    "            update_targets()\n",
    "    \n",
    "    #complete training if last 100 episoes yield more than required score\n",
    "    last_N_scores.append(score)\n",
    "    if(sum(last_N_scores)/N >= SCORE_REQUIRED):\n",
    "        break\n",
    "    \n",
    "    if(game % 100 == 0):\n",
    "        print('Game {} score : {}, epsilon={:.2}'.format(game, score, epsilon))\n",
    "        scores.append(score)\n",
    "    \n",
    "print('Average Score taken every 1000 steps:',sum(scores)/len(scores))"
   ]
  },
  {
   "cell_type": "code",
   "execution_count": 11,
   "metadata": {},
   "outputs": [],
   "source": [
    "a_model.save_weights('a_model.h5')\n",
    "c_model.save_weights('c_model.h5')"
   ]
  },
  {
   "cell_type": "code",
   "execution_count": 12,
   "metadata": {
    "scrolled": true
   },
   "outputs": [
    {
     "data": {
      "image/png": "[encoded data removed]",
      "text/plain": [
       "<Figure size 864x360 with 2 Axes>"
      ]
     },
     "metadata": {
      "needs_background": "light"
     },
     "output_type": "display_data"
    }
   ],
   "source": [
    "plot_res(scores)"
   ]
  },
  {
   "cell_type": "code",
   "execution_count": 13,
   "metadata": {},
   "outputs": [
    {
     "name": "stderr",
     "output_type": "stream",
     "text": [
      "/home/mohanish3/.local/lib/python3.7/site-packages/ipykernel_launcher.py:18: UserWarning: Update your `Model` call to the Keras 2 API: `Model(inputs=Tensor(\"in..., outputs=Tensor(\"de...)`\n"
     ]
    },
    {
     "name": "stdout",
     "output_type": "stream",
     "text": [
      "Model: \"model_5\"\n",
      "_________________________________________________________________\n",
      "Layer (type)                 Output Shape              Param #   \n",
      "=================================================================\n",
      "input_7 (InputLayer)         (None, 4)                 0         \n",
      "_________________________________________________________________\n",
      "dense_19 (Dense)             (None, 24)                120       \n",
      "_________________________________________________________________\n",
      "dense_20 (Dense)             (None, 24)                600       \n",
      "_________________________________________________________________\n",
      "dense_21 (Dense)             (None, 2)                 50        \n",
      "=================================================================\n",
      "Total params: 770\n",
      "Trainable params: 770\n",
      "Non-trainable params: 0\n",
      "_________________________________________________________________\n",
      "None\n"
     ]
    }
   ],
   "source": [
    "_, a_model = actor_model(env.observation_space.shape, env.action_space.n)\n",
    "a_model.load_weights('a_model.h5')"
   ]
  },
  {
   "cell_type": "code",
   "execution_count": 14,
   "metadata": {},
   "outputs": [
    {
     "data": {
      "image/png": "[encoded data removed]",
      "text/plain": [
       "<Figure size 864x360 with 2 Axes>"
      ]
     },
     "metadata": {
      "needs_background": "light"
     },
     "output_type": "display_data"
    },
    {
     "name": "stdout",
     "output_type": "stream",
     "text": [
      "Average score over 100 episodes: 99.47\n"
     ]
    }
   ],
   "source": [
    "TEST_EPISODES = 100\n",
    "goal_steps = 500\n",
    "epsilon = 0.01\n",
    "output_size = 2\n",
    "\n",
    "scores = []\n",
    "for episode in range(TEST_EPISODES):\n",
    "    state = env.reset()\n",
    "    \n",
    "    score = 0\n",
    "    for _ in range(goal_steps):\n",
    "        env.render()\n",
    "        \n",
    "        action = next_action(state, output_size)\n",
    "        \n",
    "        new_state, reward, done, info = env.step(np.argmax(action))\n",
    "        score += reward\n",
    "        \n",
    "        state = new_state\n",
    "        if(done):\n",
    "            break\n",
    "            \n",
    "    scores.append(score)\n",
    "        \n",
    "plot_res(scores)        \n",
    "print(\"Average score over {} episodes: {}\".format(TEST_EPISODES, sum(scores)/len(scores)))"
   ]
  },
  {
   "cell_type": "code",
   "execution_count": null,
   "metadata": {},
   "outputs": [],
   "source": []
  }
 ],
 "metadata": {
  "kernelspec": {
   "display_name": "Python mlproject",
   "language": "python",
   "name": "mlproject"
  },
  "language_info": {
   "codemirror_mode": {
    "name": "ipython",
    "version": 3
   },
   "file_extension": ".py",
   "mimetype": "text/x-python",
   "name": "python",
   "nbconvert_exporter": "python",
   "pygments_lexer": "ipython3",
   "version": "3.7.7"
  }
 },
 "nbformat": 4,
 "nbformat_minor": 2
}
