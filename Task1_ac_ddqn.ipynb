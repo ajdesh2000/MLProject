{
 "cells": [
  {
   "cell_type": "code",
   "execution_count": 1,
   "metadata": {},
   "outputs": [
    {
     "name": "stderr",
     "output_type": "stream",
     "text": [
      "Using TensorFlow backend.\n"
     ]
    }
   ],
   "source": [
    "import gym\n",
    "import random\n",
    "import numpy as np\n",
    "from statistics import median, mean\n",
    "from collections import Counter\n",
    "from keras.models import Sequential, load_model, Model\n",
    "from keras.layers import Dense, Dropout, LSTM, Input\n",
    "from keras.optimizers import Adam\n",
    "from keras.layers.merge import Add\n",
    "\n",
    "import tensorflow.compat.v1 as tf\n",
    "from tensorflow.compat.v1.keras import backend as K\n",
    "tf.disable_eager_execution()\n",
    "\n",
    "import matplotlib.pyplot as plt\n",
    "from IPython.display import clear_output\n",
    "from collections import deque"
   ]
  },
  {
   "cell_type": "code",
   "execution_count": 2,
   "metadata": {},
   "outputs": [
    {
     "name": "stdout",
     "output_type": "stream",
     "text": [
      "CartPoleEnv - Version 0.2.0, Noise case: 1\n"
     ]
    },
    {
     "name": "stderr",
     "output_type": "stream",
     "text": [
      "/home/mohanish3/anaconda3/envs/mlproject/lib/python3.7/site-packages/gym/logger.py:30: UserWarning: \u001b[33mWARN: Box bound precision lowered by casting to float32\u001b[0m\n",
      "  warnings.warn(colorize('%s: %s'%('WARN', msg % args), 'yellow'))\n",
      "/home/mohanish3/anaconda3/envs/mlproject/lib/python3.7/site-packages/gym/logger.py:30: UserWarning: \u001b[33mWARN: Environment '<class 'gym.envs.classic_control.cartpole.CartPoleEnv'>' has deprecated methods '_step' and '_reset' rather than 'step' and 'reset'. Compatibility code invoked. Set _gym_disable_underscore_compat = True to disable this behavior.\u001b[0m\n",
      "  warnings.warn(colorize('%s: %s'%('WARN', msg % args), 'yellow'))\n"
     ]
    }
   ],
   "source": [
    "LR = 1e-3\n",
    "env = gym.make(\"CartPole-v1\")\n",
    "LEARNING_RATE = 0.001"
   ]
  },
  {
   "cell_type": "code",
   "execution_count": 3,
   "metadata": {},
   "outputs": [],
   "source": [
    "#Plot score over episodes\n",
    "def plot_res(values, title=''):   \n",
    "    clear_output(wait=True)\n",
    "    \n",
    "    # Define the figure\n",
    "    f, ax = plt.subplots(nrows=1, ncols=2, figsize=(12,5))\n",
    "    f.suptitle(title)\n",
    "    ax[0].plot(values, label='score per run')\n",
    "    ax[0].axhline(100, c='red',ls='--', label='goal')\n",
    "    ax[0].set_xlabel('Episodes')\n",
    "    ax[0].set_ylabel('Reward')\n",
    "    x = range(len(values))\n",
    "    ax[0].legend()\n",
    "    # Calculate the trend\n",
    "    try:\n",
    "        z = np.polyfit(x, values, 1)\n",
    "        p = np.poly1d(z)\n",
    "        ax[0].plot(x,p(x),\"--\", label='trend')\n",
    "    except:\n",
    "        print('')\n",
    "    \n",
    "    # Plot the histogram of results\n",
    "    ax[1].hist(values[-50:])\n",
    "    ax[1].axvline(500, c='red', label='goal')\n",
    "    ax[1].set_xlabel('Scores per Last 50 Episodes')\n",
    "    ax[1].set_ylabel('Frequency')\n",
    "    ax[1].legend()\n",
    "    plt.show()"
   ]
  },
  {
   "cell_type": "code",
   "execution_count": 4,
   "metadata": {},
   "outputs": [],
   "source": [
    "input_size = env.observation_space.shape\n",
    "output_size = env.action_space.n\n",
    "\n",
    "sess = tf.Session()\n",
    "K.set_session(sess)\n",
    "\n",
    "actor_critic_grads = tf.placeholder(tf.float32, [None, output_size])\n",
    "def actor_model(input_size, output_size):\n",
    "    global LEARNING_RATE\n",
    "\n",
    "    input_state = Input(shape=input_size)\n",
    "    output=Dense(24, activation='relu')(input_state)\n",
    "    #model.add(LSTM(32, input_shape=(input_size,1), activation='tanh'))\n",
    "    output=Dense(48, activation='relu')(output)\n",
    "    output=Dense(24, activation='relu')(output)\n",
    "    output=Dense(output_size, activation='softmax')(output)\n",
    "\n",
    "    \n",
    "    model = Model(input=input_state, output=output)\n",
    "    model.compile(loss='categorical_crossentropy', optimizer=Adam(lr=LEARNING_RATE), metrics=['accuracy'])\n",
    "    print(model.summary())\n",
    "    \n",
    "    return input_state, model\n",
    "\n",
    "def critic_model(input_size_state, input_size_action):\n",
    "    LEARNING_RATE\n",
    "    \n",
    "    input_state = Input(shape=input_size_state)\n",
    "    state_hidden = Dense(24, activation='relu')(input_state)\n",
    "    state_hidden = Dense(24)(state_hidden)\n",
    "    \n",
    "    input_action = Input(shape=(input_size_action,))\n",
    "    action_hidden = Dense(24)(input_action)\n",
    "    action_hidden = Dense(24)(action_hidden)\n",
    "    \n",
    "    output = Add()([state_hidden, action_hidden])\n",
    "    output = Dense(24, activation='relu')(output)\n",
    "    output = Dense(1, activation='linear')(output)\n",
    "    \n",
    "    model = Model(input=[input_state,input_action], output=output)\n",
    "    \n",
    "    model.compile(loss='mse', optimizer=Adam(lr=LEARNING_RATE), metrics=['accuracy'])\n",
    "    print(model.summary())\n",
    "    \n",
    "    return input_state, input_action, model"
   ]
  },
  {
   "cell_type": "code",
   "execution_count": 5,
   "metadata": {},
   "outputs": [
    {
     "name": "stdout",
     "output_type": "stream",
     "text": [
      "WARNING:tensorflow:From /home/mohanish3/anaconda3/envs/mlproject/lib/python3.7/site-packages/tensorflow_core/python/ops/resource_variable_ops.py:1635: calling BaseResourceVariable.__init__ (from tensorflow.python.ops.resource_variable_ops) with constraint is deprecated and will be removed in a future version.\n",
      "Instructions for updating:\n",
      "If using Keras pass *_constraint arguments to layers.\n",
      "Model: \"model_1\"\n",
      "_________________________________________________________________\n",
      "Layer (type)                 Output Shape              Param #   \n",
      "=================================================================\n",
      "input_1 (InputLayer)         (None, 4)                 0         \n",
      "_________________________________________________________________\n",
      "dense_1 (Dense)              (None, 24)                120       \n",
      "_________________________________________________________________\n",
      "dense_2 (Dense)              (None, 48)                1200      \n",
      "_________________________________________________________________\n",
      "dense_3 (Dense)              (None, 24)                1176      \n",
      "_________________________________________________________________\n",
      "dense_4 (Dense)              (None, 2)                 50        \n",
      "=================================================================\n",
      "Total params: 2,546\n",
      "Trainable params: 2,546\n",
      "Non-trainable params: 0\n",
      "_________________________________________________________________\n",
      "None\n"
     ]
    },
    {
     "name": "stderr",
     "output_type": "stream",
     "text": [
      "/home/mohanish3/.local/lib/python3.7/site-packages/ipykernel_launcher.py:19: UserWarning: Update your `Model` call to the Keras 2 API: `Model(inputs=Tensor(\"in..., outputs=Tensor(\"de...)`\n"
     ]
    },
    {
     "name": "stdout",
     "output_type": "stream",
     "text": [
      "Model: \"model_2\"\n",
      "_________________________________________________________________\n",
      "Layer (type)                 Output Shape              Param #   \n",
      "=================================================================\n",
      "input_2 (InputLayer)         (None, 4)                 0         \n",
      "_________________________________________________________________\n",
      "dense_5 (Dense)              (None, 24)                120       \n",
      "_________________________________________________________________\n",
      "dense_6 (Dense)              (None, 48)                1200      \n",
      "_________________________________________________________________\n",
      "dense_7 (Dense)              (None, 24)                1176      \n",
      "_________________________________________________________________\n",
      "dense_8 (Dense)              (None, 2)                 50        \n",
      "=================================================================\n",
      "Total params: 2,546\n",
      "Trainable params: 2,546\n",
      "Non-trainable params: 0\n",
      "_________________________________________________________________\n",
      "None\n",
      "Model: \"model_3\"\n",
      "__________________________________________________________________________________________________\n",
      "Layer (type)                    Output Shape         Param #     Connected to                     \n",
      "==================================================================================================\n",
      "input_3 (InputLayer)            (None, 4)            0                                            \n",
      "__________________________________________________________________________________________________\n",
      "input_4 (InputLayer)            (None, 2)            0                                            \n",
      "__________________________________________________________________________________________________\n",
      "dense_9 (Dense)                 (None, 24)           120         input_3[0][0]                    \n",
      "__________________________________________________________________________________________________\n",
      "dense_11 (Dense)                (None, 24)           72          input_4[0][0]                    \n",
      "__________________________________________________________________________________________________\n",
      "dense_10 (Dense)                (None, 24)           600         dense_9[0][0]                    \n",
      "__________________________________________________________________________________________________\n",
      "dense_12 (Dense)                (None, 24)           600         dense_11[0][0]                   \n",
      "__________________________________________________________________________________________________\n",
      "add_1 (Add)                     (None, 24)           0           dense_10[0][0]                   \n",
      "                                                                 dense_12[0][0]                   \n",
      "__________________________________________________________________________________________________\n",
      "dense_13 (Dense)                (None, 24)           600         add_1[0][0]                      \n",
      "__________________________________________________________________________________________________\n",
      "dense_14 (Dense)                (None, 1)            25          dense_13[0][0]                   \n",
      "==================================================================================================\n",
      "Total params: 2,017\n",
      "Trainable params: 2,017\n",
      "Non-trainable params: 0\n",
      "__________________________________________________________________________________________________\n",
      "None\n",
      "Model: \"model_4\"\n",
      "__________________________________________________________________________________________________\n",
      "Layer (type)                    Output Shape         Param #     Connected to                     \n",
      "==================================================================================================\n",
      "input_5 (InputLayer)            (None, 4)            0                                            \n",
      "__________________________________________________________________________________________________\n",
      "input_6 (InputLayer)            (None, 2)            0                                            \n",
      "__________________________________________________________________________________________________\n",
      "dense_15 (Dense)                (None, 24)           120         input_5[0][0]                    \n",
      "__________________________________________________________________________________________________\n",
      "dense_17 (Dense)                (None, 24)           72          input_6[0][0]                    \n",
      "__________________________________________________________________________________________________\n",
      "dense_16 (Dense)                (None, 24)           600         dense_15[0][0]                   \n",
      "__________________________________________________________________________________________________\n",
      "dense_18 (Dense)                (None, 24)           600         dense_17[0][0]                   \n",
      "__________________________________________________________________________________________________\n",
      "add_2 (Add)                     (None, 24)           0           dense_16[0][0]                   \n",
      "                                                                 dense_18[0][0]                   \n",
      "__________________________________________________________________________________________________\n",
      "dense_19 (Dense)                (None, 24)           600         add_2[0][0]                      \n",
      "__________________________________________________________________________________________________\n",
      "dense_20 (Dense)                (None, 1)            25          dense_19[0][0]                   \n",
      "==================================================================================================\n",
      "Total params: 2,017\n",
      "Trainable params: 2,017\n",
      "Non-trainable params: 0\n",
      "__________________________________________________________________________________________________\n",
      "None\n"
     ]
    },
    {
     "name": "stderr",
     "output_type": "stream",
     "text": [
      "/home/mohanish3/.local/lib/python3.7/site-packages/ipykernel_launcher.py:40: UserWarning: Update your `Model` call to the Keras 2 API: `Model(inputs=[<tf.Tenso..., outputs=Tensor(\"de...)`\n"
     ]
    }
   ],
   "source": [
    "#Initializiing models with target models(For slow update in DDQL)\n",
    "actor_input_state,a_model = actor_model(input_size, output_size)\n",
    "_,a_target_model = actor_model(input_size, output_size)\n",
    "critic_input_state, critic_input_action, c_model = critic_model(input_size, output_size)\n",
    "_, _, c_target_model = critic_model(input_size, output_size)"
   ]
  },
  {
   "cell_type": "code",
   "execution_count": 6,
   "metadata": {},
   "outputs": [],
   "source": [
    "actor_model_weights = a_model.trainable_weights\n",
    "actor_grads = tf.gradients(a_model.output, actor_model_weights, -actor_critic_grads)\n",
    "grads = zip(actor_grads, actor_model_weights)\n",
    "optimize = tf.train.AdamOptimizer(LEARNING_RATE).apply_gradients(grads)\n",
    "\n",
    "critic_grads = tf.gradients(c_model.output, critic_input_action)\n",
    "\n",
    "sess.run(tf.global_variables_initializer())"
   ]
  },
  {
   "cell_type": "code",
   "execution_count": 7,
   "metadata": {},
   "outputs": [],
   "source": [
    "epsilon = 1.0 #Used to define the exploration range\n",
    "epsilon_min = 0.01\n",
    "epsilon_decay = 0.995\n",
    "gamma = 0.9\n",
    "\n",
    "def replay_actor(training_samples):\n",
    "    global sess, critic_grads, critic_input_state, critic_input_action, actor_critic_grads, optimize\n",
    "    \n",
    "    for t in training_samples:\n",
    "        state, reward, done, new_state, action = t\n",
    "        \n",
    "        yi = a_model.predict(np.expand_dims(state, axis=0))\n",
    "        \n",
    "        state=np.expand_dims(state, axis=0)\n",
    "        \n",
    "        grads = sess.run(critic_grads, feed_dict={\n",
    "            critic_input_state:  state, \n",
    "            critic_input_action: yi\n",
    "        })[0]\n",
    "\n",
    "        sess.run(optimize, feed_dict={\n",
    "            actor_input_state: state,\n",
    "            actor_critic_grads: grads\n",
    "        })\n",
    "        \n",
    "def replay_critic(training_samples):\n",
    "    global epsilon, epsilon_min, epsilon_decay, a_model, c_model\n",
    "    \n",
    "    for t in training_samples:\n",
    "        state, reward, done, new_state, action = t\n",
    "        \n",
    "        if(done):\n",
    "            reward=-reward\n",
    "        \n",
    "        new_state = np.expand_dims(new_state, axis=0)\n",
    "        \n",
    "        \n",
    "        if(not done):\n",
    "            a = a_model.predict(new_state)\n",
    "            t = c_model.predict([new_state, a])[0]\n",
    "            reward = reward + gamma * t\n",
    "            \n",
    "        state=np.expand_dims(state, axis=0)\n",
    "        action=np.expand_dims(action, axis=0)\n",
    "        \n",
    "        c_model.fit([state, action], [reward], epochs=1, verbose=0)\n",
    "    \n",
    "def replay(training_data, train_size):\n",
    "    global epsilon, epsilon_min, epsilon_decay, a_model, c_model\n",
    "    \n",
    "    if(len(training_data) < train_size):\n",
    "        return\n",
    "    \n",
    "    batch_data = random.sample(training_data, train_size)\n",
    "    \n",
    "    replay_critic(batch_data)\n",
    "    replay_actor(batch_data)\n",
    "    \n",
    "    if epsilon > epsilon_min:\n",
    "        epsilon *= epsilon_decay"
   ]
  },
  {
   "cell_type": "code",
   "execution_count": 8,
   "metadata": {},
   "outputs": [],
   "source": [
    "def update_actor_target():\n",
    "    global a_model, a_target_model\n",
    "    a_target_model.set_weights(a_model.get_weights())\n",
    "    \n",
    "def update_critic_target():\n",
    "    global c_model, c_target_model\n",
    "    c_target_model.set_weights(c_model.get_weights())\n",
    "    \n",
    "def update_targets():\n",
    "    update_actor_target()\n",
    "    update_critic_target()"
   ]
  },
  {
   "cell_type": "code",
   "execution_count": 9,
   "metadata": {},
   "outputs": [],
   "source": [
    "def next_action(state, output_size):\n",
    "    global epsilon, a_model\n",
    "    if(np.random.rand() <= epsilon): #Explore: Random action\n",
    "        act = [0] * output_size\n",
    "        act[np.random.randint(0, output_size)] = 1\n",
    "        act = np.array(act, dtype=np.float32)\n",
    "        return act\n",
    "    return a_model.predict(np.expand_dims(state, axis=0))[0] #Exploitation: Action with best possible reward"
   ]
  },
  {
   "cell_type": "code",
   "execution_count": 10,
   "metadata": {
    "scrolled": true
   },
   "outputs": [
    {
     "name": "stdout",
     "output_type": "stream",
     "text": [
      "Game 100 score : 14.0\n",
      "Game 200 score : 41.0\n",
      "Game 300 score : 37.0\n",
      "Game 400 score : 112.0\n",
      "Game 500 score : 85.0\n",
      "Game 600 score : 109.0\n",
      "Game 700 score : 120.0\n",
      "Game 800 score : 138.0\n",
      "Game 900 score : 22.0\n",
      "Average Score: 79.8623265741729\n"
     ]
    }
   ],
   "source": [
    "scores = []\n",
    "game_memory = deque(maxlen=100000)\n",
    "\n",
    "train_size = 32\n",
    "update_every = 100000000\n",
    "goal_steps = 500\n",
    "TRAIN_EPISODES = 100000\n",
    "\n",
    "for game in range(TRAIN_EPISODES):\n",
    "    state = env.reset()\n",
    "    \n",
    "    if game % update_every == 0:\n",
    "        update_targets()\n",
    "    \n",
    "    #env.render()\n",
    "    score = 0\n",
    "    for _ in range(goal_steps):\n",
    "        #print(state.shape)\n",
    "        #state = np.expand_dims(state, axis=0)\n",
    "        \n",
    "        action = next_action(state, output_size)\n",
    "        \n",
    "        #print(np.expand_dims(new_state, axis=1))\n",
    "        #print(action)\n",
    "                \n",
    "        new_state, reward, done, info = env.step(np.argmax(action))\n",
    "        \n",
    "        score += reward\n",
    "        \n",
    "        \n",
    "        game_memory.append((state, reward, done, new_state, action))\n",
    "        \n",
    "        state = new_state\n",
    "        if done: \n",
    "            #print(\"episode: {}/{}, score: {}, e: {:.2}\".format(game, TRAIN_EPISODES, _, epsilon))\n",
    "            break\n",
    "    \n",
    "    if(len(game_memory) < 1000):\n",
    "        continue\n",
    "    \n",
    "    replay(game_memory, train_size)\n",
    "    \n",
    "    if(game % 1000 == 0):\n",
    "        print('Game {} score : {}'.format(game, score))\n",
    "        scores.append(score)\n",
    "    \n",
    "print('Average Score taken every 1000 steps:',sum(scores)/len(scores))"
   ]
  },
  {
   "cell_type": "code",
   "execution_count": 12,
   "metadata": {},
   "outputs": [],
   "source": [
    "a_model.save_weights('a_model.h5')\n",
    "c_model.save_weights('c_model.h5')"
   ]
  },
  {
   "cell_type": "code",
   "execution_count": 11,
   "metadata": {
    "scrolled": true
   },
   "outputs": [
    {
     "data": {
      "image/png": "[encoded data removed]",
      "text/plain": [
       "<Figure size 864x360 with 2 Axes>"
      ]
     },
     "metadata": {
      "needs_background": "light"
     },
     "output_type": "display_data"
    }
   ],
   "source": [
    "plot_res(scores)"
   ]
  },
  {
   "cell_type": "code",
   "execution_count": 13,
   "metadata": {},
   "outputs": [
    {
     "name": "stderr",
     "output_type": "stream",
     "text": [
      "/home/mohanish3/.local/lib/python3.7/site-packages/ipykernel_launcher.py:19: UserWarning: Update your `Model` call to the Keras 2 API: `Model(inputs=Tensor(\"in..., outputs=Tensor(\"de...)`\n"
     ]
    },
    {
     "name": "stdout",
     "output_type": "stream",
     "text": [
      "Model: \"model_5\"\n",
      "_________________________________________________________________\n",
      "Layer (type)                 Output Shape              Param #   \n",
      "=================================================================\n",
      "input_7 (InputLayer)         (None, 4)                 0         \n",
      "_________________________________________________________________\n",
      "dense_21 (Dense)             (None, 24)                120       \n",
      "_________________________________________________________________\n",
      "dense_22 (Dense)             (None, 48)                1200      \n",
      "_________________________________________________________________\n",
      "dense_23 (Dense)             (None, 24)                1176      \n",
      "_________________________________________________________________\n",
      "dense_24 (Dense)             (None, 2)                 50        \n",
      "=================================================================\n",
      "Total params: 2,546\n",
      "Trainable params: 2,546\n",
      "Non-trainable params: 0\n",
      "_________________________________________________________________\n",
      "None\n"
     ]
    }
   ],
   "source": [
    "_, a_model = actor_model(env.observation_space.shape, env.action_space.n)\n",
    "a_model.load_weights('a_model.h5')"
   ]
  },
  {
   "cell_type": "code",
   "execution_count": 15,
   "metadata": {},
   "outputs": [
    {
     "data": {
      "image/png": "[encoded data removed]",
      "text/plain": [
       "<Figure size 864x360 with 2 Axes>"
      ]
     },
     "metadata": {
      "needs_background": "light"
     },
     "output_type": "display_data"
    },
    {
     "name": "stdout",
     "output_type": "stream",
     "text": [
      "Average score over 100 episodes: 75.52\n"
     ]
    }
   ],
   "source": [
    "TEST_EPISODES = 100\n",
    "goal_steps = 500\n",
    "epsilon = 0.05\n",
    "output_size = 2\n",
    "\n",
    "scores = []\n",
    "for episode in range(TEST_EPISODES):\n",
    "    state = env.reset()\n",
    "    \n",
    "    score = 0\n",
    "    for _ in range(goal_steps):\n",
    "        env.render()\n",
    "        \n",
    "        action = next_action(state, output_size)\n",
    "        \n",
    "        new_state, reward, done, info = env.step(np.argmax(action))\n",
    "        score += reward\n",
    "        \n",
    "        state = new_state\n",
    "        if(done):\n",
    "            break\n",
    "            \n",
    "    scores.append(score)\n",
    "        \n",
    "plot_res(scores)        \n",
    "print(\"Average score over {} episodes: {}\".format(TEST_EPISODES, sum(scores)/len(scores)))"
   ]
  },
  {
   "cell_type": "code",
   "execution_count": null,
   "metadata": {},
   "outputs": [],
   "source": []
  }
 ],
 "metadata": {
  "kernelspec": {
   "display_name": "Python mlproject",
   "language": "python",
   "name": "mlproject"
  },
  "language_info": {
   "codemirror_mode": {
    "name": "ipython",
    "version": 3
   },
   "file_extension": ".py",
   "mimetype": "text/x-python",
   "name": "python",
   "nbconvert_exporter": "python",
   "pygments_lexer": "ipython3",
   "version": "3.7.7"
  }
 },
 "nbformat": 4,
 "nbformat_minor": 2
}
