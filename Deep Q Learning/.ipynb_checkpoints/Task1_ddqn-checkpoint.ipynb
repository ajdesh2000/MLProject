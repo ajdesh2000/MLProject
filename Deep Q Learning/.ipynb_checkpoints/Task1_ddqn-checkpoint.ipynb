{
 "cells": [
  {
   "cell_type": "code",
   "execution_count": 1,
   "metadata": {},
   "outputs": [
    {
     "name": "stderr",
     "output_type": "stream",
     "text": [
      "Using TensorFlow backend.\n"
     ]
    }
   ],
   "source": [
    "import gym\n",
    "import random\n",
    "import numpy as np\n",
    "from statistics import median, mean\n",
    "from collections import Counter\n",
    "from keras.models import Sequential, load_model\n",
    "from keras.layers import Dense, Dropout, LSTM\n",
    "from keras.optimizers import Adam\n",
    "from keras import backend as K\n",
    "import matplotlib.pyplot as plt\n",
    "from IPython.display import clear_output\n",
    "from collections import deque"
   ]
  },
  {
   "cell_type": "code",
   "execution_count": 2,
   "metadata": {},
   "outputs": [
    {
     "name": "stdout",
     "output_type": "stream",
     "text": [
      "CartPoleEnv - Version 0.2.0, Noise case: 1\n"
     ]
    },
    {
     "name": "stderr",
     "output_type": "stream",
     "text": [
      "/home/mohanish3/anaconda3/envs/mlproject/lib/python3.7/site-packages/gym/logger.py:30: UserWarning: \u001b[33mWARN: Box bound precision lowered by casting to float32\u001b[0m\n",
      "  warnings.warn(colorize('%s: %s'%('WARN', msg % args), 'yellow'))\n",
      "/home/mohanish3/anaconda3/envs/mlproject/lib/python3.7/site-packages/gym/logger.py:30: UserWarning: \u001b[33mWARN: Environment '<class 'gym.envs.classic_control.cartpole.CartPoleEnv'>' has deprecated methods '_step' and '_reset' rather than 'step' and 'reset'. Compatibility code invoked. Set _gym_disable_underscore_compat = True to disable this behavior.\u001b[0m\n",
      "  warnings.warn(colorize('%s: %s'%('WARN', msg % args), 'yellow'))\n"
     ]
    }
   ],
   "source": [
    "LR = 1e-3\n",
    "env = gym.make(\"CartPole-v1\")"
   ]
  },
  {
   "cell_type": "code",
   "execution_count": 3,
   "metadata": {},
   "outputs": [],
   "source": [
    "#Plot score over episodes\n",
    "def plot_res(values, title=''):   \n",
    "    clear_output(wait=True)\n",
    "    \n",
    "    # Define the figure\n",
    "    f, ax = plt.subplots(nrows=1, ncols=2, figsize=(12,5))\n",
    "    f.suptitle(title)\n",
    "    ax[0].plot(values, label='score per run')\n",
    "    ax[0].axhline(100, c='red',ls='--', label='goal')\n",
    "    ax[0].set_xlabel('Episodes')\n",
    "    ax[0].set_ylabel('Reward')\n",
    "    x = range(len(values))\n",
    "    ax[0].legend()\n",
    "    # Calculate the trend\n",
    "    try:\n",
    "        z = np.polyfit(x, values, 1)\n",
    "        p = np.poly1d(z)\n",
    "        ax[0].plot(x,p(x),\"--\", label='trend')\n",
    "    except:\n",
    "        print('')\n",
    "    \n",
    "    # Plot the histogram of results\n",
    "    ax[1].hist(values[-50:])\n",
    "    ax[1].axvline(500, c='red', label='goal')\n",
    "    ax[1].set_xlabel('Scores per Last 50 Episodes')\n",
    "    ax[1].set_ylabel('Frequency')\n",
    "    ax[1].legend()\n",
    "    plt.show()"
   ]
  },
  {
   "cell_type": "code",
   "execution_count": 4,
   "metadata": {},
   "outputs": [],
   "source": [
    "def neural_network_model(input_size, output_size):\n",
    "\n",
    "    model = Sequential()\n",
    "    \n",
    "    model.add(Dense(24, input_dim=input_size,activation='relu'))\n",
    "    model.add(Dense(24, activation='relu'))\n",
    "    model.add(Dense(output_size,activation='linear'))\n",
    "    \n",
    "    model.compile(loss='mse', optimizer=Adam(lr=0.001), metrics=['accuracy'])\n",
    "    \n",
    "    return model"
   ]
  },
  {
   "cell_type": "code",
   "execution_count": 5,
   "metadata": {},
   "outputs": [
    {
     "name": "stdout",
     "output_type": "stream",
     "text": [
      "4\n",
      "2\n",
      "Model: \"sequential_1\"\n",
      "_________________________________________________________________\n",
      "Layer (type)                 Output Shape              Param #   \n",
      "=================================================================\n",
      "dense_1 (Dense)              (None, 24)                120       \n",
      "_________________________________________________________________\n",
      "dense_2 (Dense)              (None, 24)                600       \n",
      "_________________________________________________________________\n",
      "dense_3 (Dense)              (None, 2)                 50        \n",
      "=================================================================\n",
      "Total params: 770\n",
      "Trainable params: 770\n",
      "Non-trainable params: 0\n",
      "_________________________________________________________________\n"
     ]
    }
   ],
   "source": [
    "input_size = env.observation_space.shape[0]\n",
    "output_size = env.action_space.n\n",
    "\n",
    "print(input_size)\n",
    "print(output_size)\n",
    "\n",
    "model = neural_network_model(input_size, output_size)\n",
    "target_model = neural_network_model(input_size, output_size)\n",
    "\n",
    "model.summary()"
   ]
  },
  {
   "cell_type": "code",
   "execution_count": 6,
   "metadata": {},
   "outputs": [],
   "source": [
    "def replay(model, training_data, train_size):\n",
    "    global epsilon, epsilon_min, epsilon_decay\n",
    "    \n",
    "    batch_data = random.sample(training_data, train_size)\n",
    "    for t in batch_data:\n",
    "        state, reward, done, new_state, action = t\n",
    "        \n",
    "        yi = model.predict(state)\n",
    "        \n",
    "        if(done):\n",
    "            yi[0][action] = reward\n",
    "        else:\n",
    "            a = model.predict(new_state)[0]\n",
    "            t = target_model.predict(new_state)[0]\n",
    "            yi[0][action] = reward + gamma * t[np.argmax(a)]\n",
    "        model.fit(state, yi, epochs=1, verbose=0)\n",
    "    if epsilon > epsilon_min:\n",
    "        epsilon *= epsilon_decay\n",
    "\n",
    "    return model"
   ]
  },
  {
   "cell_type": "code",
   "execution_count": 7,
   "metadata": {},
   "outputs": [],
   "source": [
    "def next_action(state, output_size):\n",
    "    if(np.random.rand() <= epsilon): #Explore: Random action\n",
    "        return random.randrange(output_size)\n",
    "    return np.argmax(model.predict(state)) #Exploitation: Action with best possible reward"
   ]
  },
  {
   "cell_type": "code",
   "execution_count": 8,
   "metadata": {
    "scrolled": true
   },
   "outputs": [
    {
     "name": "stdout",
     "output_type": "stream",
     "text": [
      "Game 0 score : 21.0\n",
      "Game 100 score : 42.0\n",
      "Game 200 score : 41.0\n",
      "Game 300 score : 65.0\n",
      "Game 400 score : 149.0\n",
      "Game 500 score : 202.0\n",
      "Game 600 score : 298.0\n",
      "Game 700 score : 220.0\n",
      "Game 800 score : 381.0\n",
      "Game 900 score : 307.0\n",
      "Game 1000 score : 223.0\n",
      "Game 1100 score : 280.0\n",
      "Game 1200 score : 254.0\n",
      "Game 1300 score : 193.0\n",
      "Game 1400 score : 105.0\n",
      "Game 1500 score : 156.0\n",
      "Game 1600 score : 177.0\n",
      "Game 1700 score : 197.0\n",
      "Game 1800 score : 153.0\n",
      "Game 1900 score : 10.0\n",
      "Game 2000 score : 10.0\n",
      "Game 2100 score : 9.0\n",
      "Game 2200 score : 9.0\n",
      "Game 2300 score : 8.0\n",
      "Game 2400 score : 8.0\n",
      "Game 2500 score : 11.0\n",
      "Game 2600 score : 9.0\n",
      "Game 2700 score : 13.0\n",
      "Game 2800 score : 10.0\n",
      "Game 2900 score : 8.0\n",
      "Game 3000 score : 11.0\n",
      "Game 3100 score : 11.0\n",
      "Game 3200 score : 10.0\n",
      "Game 3300 score : 8.0\n",
      "Game 3400 score : 22.0\n",
      "Game 3500 score : 37.0\n",
      "Game 3600 score : 55.0\n",
      "Game 3700 score : 40.0\n",
      "Game 3800 score : 52.0\n",
      "Game 3900 score : 28.0\n",
      "Game 4000 score : 45.0\n",
      "Game 4100 score : 80.0\n",
      "Game 4200 score : 58.0\n",
      "Game 4300 score : 50.0\n",
      "Game 4400 score : 78.0\n",
      "Game 4500 score : 52.0\n",
      "Game 4600 score : 57.0\n",
      "Game 4700 score : 35.0\n",
      "Game 4800 score : 32.0\n",
      "Game 4900 score : 18.0\n",
      "Game 5000 score : 45.0\n",
      "Game 5100 score : 15.0\n",
      "Game 5200 score : 17.0\n",
      "Game 5300 score : 13.0\n",
      "Game 5400 score : 12.0\n",
      "Game 5500 score : 18.0\n",
      "Game 5600 score : 16.0\n",
      "Game 5700 score : 65.0\n",
      "Game 5800 score : 20.0\n",
      "Game 5900 score : 15.0\n",
      "Game 6000 score : 14.0\n",
      "Game 6100 score : 10.0\n",
      "Game 6200 score : 9.0\n",
      "Game 6300 score : 21.0\n",
      "Game 6400 score : 35.0\n",
      "Game 6500 score : 26.0\n",
      "Game 6600 score : 13.0\n",
      "Game 6700 score : 9.0\n",
      "Game 6800 score : 8.0\n",
      "Game 6900 score : 8.0\n",
      "Game 7000 score : 69.0\n",
      "Game 7100 score : 31.0\n",
      "Game 7200 score : 143.0\n",
      "Game 7300 score : 12.0\n",
      "Game 7400 score : 13.0\n",
      "Game 7500 score : 13.0\n",
      "Game 7600 score : 19.0\n",
      "Game 7700 score : 10.0\n",
      "Game 7800 score : 10.0\n",
      "Game 7900 score : 11.0\n",
      "Game 8000 score : 11.0\n",
      "Game 8100 score : 9.0\n",
      "Game 8200 score : 10.0\n",
      "Game 8300 score : 108.0\n",
      "Game 8400 score : 8.0\n",
      "Game 8500 score : 12.0\n",
      "Game 8600 score : 11.0\n",
      "Game 8700 score : 10.0\n",
      "Game 8800 score : 10.0\n",
      "Game 8900 score : 73.0\n",
      "Game 9000 score : 11.0\n",
      "Game 9100 score : 11.0\n",
      "Game 9200 score : 10.0\n",
      "Game 9300 score : 10.0\n",
      "Game 9400 score : 49.0\n",
      "Game 9500 score : 28.0\n",
      "Game 9600 score : 34.0\n",
      "Game 9700 score : 35.0\n",
      "Game 9800 score : 19.0\n",
      "Game 9900 score : 69.0\n",
      "Game 10000 score : 62.0\n",
      "Game 10100 score : 59.0\n",
      "Game 10200 score : 61.0\n",
      "Game 10300 score : 51.0\n",
      "Game 10400 score : 36.0\n",
      "Game 10500 score : 19.0\n",
      "Game 10600 score : 18.0\n",
      "Game 10700 score : 17.0\n",
      "Game 10800 score : 16.0\n",
      "Game 10900 score : 26.0\n",
      "Game 11000 score : 21.0\n",
      "Game 11100 score : 19.0\n",
      "Game 11200 score : 20.0\n",
      "Game 11300 score : 24.0\n",
      "Game 11400 score : 23.0\n",
      "Game 11500 score : 17.0\n",
      "Game 11600 score : 19.0\n",
      "Game 11700 score : 38.0\n",
      "Game 11800 score : 55.0\n",
      "Game 11900 score : 36.0\n",
      "Game 12000 score : 57.0\n",
      "Game 12100 score : 35.0\n",
      "Game 12200 score : 38.0\n",
      "Game 12300 score : 27.0\n",
      "Game 12400 score : 63.0\n",
      "Game 12500 score : 86.0\n",
      "Game 12600 score : 111.0\n",
      "Game 12700 score : 81.0\n",
      "Game 12800 score : 140.0\n",
      "Game 12900 score : 101.0\n",
      "Game 13000 score : 116.0\n",
      "Game 13100 score : 118.0\n",
      "Game 13200 score : 127.0\n",
      "Game 13300 score : 112.0\n",
      "Game 13400 score : 250.0\n",
      "Game 13500 score : 75.0\n",
      "Game 13600 score : 94.0\n",
      "Game 13700 score : 108.0\n",
      "Game 13800 score : 86.0\n",
      "Game 13900 score : 105.0\n",
      "Game 14000 score : 94.0\n",
      "Game 14100 score : 136.0\n",
      "Game 14200 score : 142.0\n",
      "Game 14300 score : 136.0\n",
      "Game 14400 score : 141.0\n",
      "Game 14500 score : 128.0\n",
      "Game 14600 score : 66.0\n",
      "Game 14700 score : 11.0\n",
      "Game 14800 score : 99.0\n",
      "Game 14900 score : 119.0\n",
      "Game 15000 score : 99.0\n",
      "Game 15100 score : 66.0\n",
      "Game 15200 score : 48.0\n",
      "Game 15300 score : 79.0\n",
      "Game 15400 score : 85.0\n",
      "Game 15500 score : 9.0\n",
      "Game 15600 score : 8.0\n",
      "Game 15700 score : 71.0\n",
      "Game 15800 score : 63.0\n",
      "Game 15900 score : 24.0\n",
      "Game 16000 score : 26.0\n",
      "Game 16100 score : 36.0\n",
      "Game 16200 score : 43.0\n",
      "Game 16300 score : 46.0\n",
      "Game 16400 score : 86.0\n",
      "Game 16500 score : 218.0\n",
      "Game 16600 score : 167.0\n",
      "Game 16700 score : 71.0\n",
      "Game 16800 score : 47.0\n",
      "Game 16900 score : 68.0\n",
      "Game 17000 score : 51.0\n",
      "Game 17100 score : 111.0\n",
      "Game 17200 score : 122.0\n",
      "Game 17300 score : 260.0\n",
      "Game 17400 score : 136.0\n",
      "Game 17500 score : 133.0\n",
      "Game 17600 score : 345.0\n",
      "Game 17700 score : 219.0\n",
      "Game 17800 score : 200.0\n",
      "Game 17900 score : 500.0\n",
      "Score 490 achieved at 17934 game\n",
      "Average Score taken every 100 steps: 70.45555555555555\n"
     ]
    }
   ],
   "source": [
    "scores = []\n",
    "game_memory = deque(maxlen=100000)\n",
    "\n",
    "N = 100\n",
    "last_N_scores = deque(maxlen=N)\n",
    "SCORE_REQUIRED = 490\n",
    "\n",
    "goal_steps = 500\n",
    "TRAIN_EPISODES = 100000\n",
    "\n",
    "train_size = 32\n",
    "update_every = 1\n",
    "\n",
    "epsilon = 1.0 #Defines the exploration range\n",
    "epsilon_min = 0.01\n",
    "epsilon_decay = 0.99\n",
    "gamma = 0.99\n",
    "\n",
    "for game in range(TRAIN_EPISODES):\n",
    "    state = env.reset()\n",
    "    \n",
    "    if game % update_every == 0:\n",
    "        target_model.set_weights(model.get_weights())\n",
    "    \n",
    "    score = 0\n",
    "    for _ in range(goal_steps):\n",
    "        #env.render()\n",
    "        state = state.reshape(-1, len(state))\n",
    "        \n",
    "        action = next_action(state, output_size)\n",
    "                \n",
    "        new_state, reward, done, info = env.step(action)\n",
    "        \n",
    "        score += reward\n",
    "        if done:\n",
    "            reward = -reward\n",
    "        else:\n",
    "            reward = reward\n",
    "        \n",
    "        game_memory.append((state, reward, done, new_state.reshape(-1, len(new_state)), action))\n",
    "        \n",
    "        state = new_state\n",
    "        if done: \n",
    "            #print(\"episode: {}/{}, score: {}, e: {:.2}\".format(game, EPISODES, _, epsilon))\n",
    "            break\n",
    "            \n",
    "    #complete training if last N episodes yield more than required score\n",
    "    last_N_scores.append(score)\n",
    "    if(sum(last_N_scores)/N >= SCORE_REQUIRED):\n",
    "        print('Score {} achieved at {} game'.format(SCORE_REQUIRED, game))\n",
    "        break\n",
    "            \n",
    "    if(len(game_memory) > train_size):\n",
    "        replay(model, game_memory, train_size)\n",
    "    \n",
    "    if(game % 100 == 0):\n",
    "        print('Game {} score : {}'.format(game, score))\n",
    "        scores.append(score)\n",
    "        \n",
    "    \n",
    "if(len(scores) > 0):\n",
    "    print('Average Score taken every 100 steps:',sum(scores)/len(scores))\n",
    "else:\n",
    "    print('Average Score:', SCORE_REQUIRED)"
   ]
  },
  {
   "cell_type": "code",
   "execution_count": 9,
   "metadata": {},
   "outputs": [
    {
     "data": {
      "image/png": "[encoded data removed]",
      "text/plain": [
       "<Figure size 864x360 with 2 Axes>"
      ]
     },
     "metadata": {
      "needs_background": "light"
     },
     "output_type": "display_data"
    }
   ],
   "source": [
    "plot_res(scores)"
   ]
  },
  {
   "cell_type": "code",
   "execution_count": 10,
   "metadata": {},
   "outputs": [],
   "source": [
    "model.save('model1.h5')"
   ]
  },
  {
   "cell_type": "code",
   "execution_count": 11,
   "metadata": {},
   "outputs": [],
   "source": [
    "model = load_model('model1.h5')"
   ]
  },
  {
   "cell_type": "code",
   "execution_count": 12,
   "metadata": {},
   "outputs": [
    {
     "data": {
      "image/png": "[encoded data removed]",
      "text/plain": [
       "<Figure size 864x360 with 2 Axes>"
      ]
     },
     "metadata": {
      "needs_background": "light"
     },
     "output_type": "display_data"
    },
    {
     "name": "stdout",
     "output_type": "stream",
     "text": [
      "Average score over 100 episodes: 500.0\n"
     ]
    }
   ],
   "source": [
    "TEST_EPISODES = 100\n",
    "goal_steps = 500\n",
    "epsilon = 0.0\n",
    "output_size = 2\n",
    "\n",
    "scores = []\n",
    "for episode in range(TEST_EPISODES):\n",
    "    state = env.reset()\n",
    "    \n",
    "    score = 0\n",
    "    for _ in range(goal_steps):\n",
    "        env.render()\n",
    "        \n",
    "        state = state.reshape(-1, len(state))\n",
    "        action = next_action(state, output_size)\n",
    "        \n",
    "        new_state, reward, done, info = env.step(action)\n",
    "        score += reward\n",
    "        \n",
    "        state = new_state\n",
    "        if(done):\n",
    "            break\n",
    "            \n",
    "    scores.append(score)\n",
    "        \n",
    "plot_res(scores)        \n",
    "print(\"Average score over {} episodes: {}\".format(TEST_EPISODES, sum(scores)/len(scores)))"
   ]
  },
  {
   "cell_type": "code",
   "execution_count": null,
   "metadata": {},
   "outputs": [],
   "source": []
  }
 ],
 "metadata": {
  "kernelspec": {
   "display_name": "Python mlproject",
   "language": "python",
   "name": "mlproject"
  },
  "language_info": {
   "codemirror_mode": {
    "name": "ipython",
    "version": 3
   },
   "file_extension": ".py",
   "mimetype": "text/x-python",
   "name": "python",
   "nbconvert_exporter": "python",
   "pygments_lexer": "ipython3",
   "version": "3.7.7"
  }
 },
 "nbformat": 4,
 "nbformat_minor": 2
}
